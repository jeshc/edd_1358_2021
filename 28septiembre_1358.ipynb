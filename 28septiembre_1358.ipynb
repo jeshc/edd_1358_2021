{
  "nbformat": 4,
  "nbformat_minor": 0,
  "metadata": {
    "colab": {
      "name": "28septiembre_1358.ipynb",
      "provenance": [],
      "collapsed_sections": [],
      "authorship_tag": "ABX9TyNF6p17+F30jc3zRNWd/8BF",
      "include_colab_link": true
    },
    "kernelspec": {
      "name": "python3",
      "display_name": "Python 3"
    }
  },
  "cells": [
    {
      "cell_type": "markdown",
      "metadata": {
        "id": "view-in-github",
        "colab_type": "text"
      },
      "source": [
        "<a href=\"https://colab.research.google.com/github/jeshc/edd_1358_2021/blob/master/28septiembre_1358.ipynb\" target=\"_parent\"><img src=\"https://colab.research.google.com/assets/colab-badge.svg\" alt=\"Open In Colab\"/></a>"
      ]
    },
    {
      "cell_type": "code",
      "metadata": {
        "id": "v3Af90cxXIe2",
        "outputId": "49c2a2d9-730e-4318-fb9f-b9a50331e477",
        "colab": {
          "base_uri": "https://localhost:8080/",
          "height": 34
        }
      },
      "source": [
        "print( \"Hola colab research\")\n",
        "nombre = \"EdD\"\n",
        "val= 10"
      ],
      "execution_count": null,
      "outputs": [
        {
          "output_type": "stream",
          "text": [
            "Hola colab research\n"
          ],
          "name": "stdout"
        }
      ]
    },
    {
      "cell_type": "code",
      "metadata": {
        "id": "IBJczwAOXg6G",
        "outputId": "849601a6-681b-4eab-dffb-61d149240f7a",
        "colab": {
          "base_uri": "https://localhost:8080/",
          "height": 50
        }
      },
      "source": [
        "print(nombre)\n",
        "print(val)"
      ],
      "execution_count": null,
      "outputs": [
        {
          "output_type": "stream",
          "text": [
            "EdD\n",
            "10\n"
          ],
          "name": "stdout"
        }
      ]
    },
    {
      "cell_type": "markdown",
      "metadata": {
        "id": "b1wCXpD4Zrph"
      },
      "source": [
        "# Hola esto es un encabezado\n",
        "## Encabezado nivel 2\n",
        "### Sintaxis Markdown\n",
        "\n",
        "\n",
        "* elem 1\n",
        "* elem 2\n",
        "* elem 3\n",
        "\n",
        "1. fresa\n",
        "1. manzana\n",
        "1. pera\n",
        "1. adsad\n",
        "\n",
        "esto es un texto largo y quiero poner **negritas** y también quiero poner _italica_.\n",
        "[Ir a google](https://www.google.com)"
      ]
    },
    {
      "cell_type": "code",
      "metadata": {
        "id": "fK4Fulleb9aX"
      },
      "source": [
        "class Silla():\n",
        "  def __init__( self ):\n",
        "    self.material = \"\"\n",
        "    self.color = \"\"\n",
        "  \n",
        "  def to_string( self ):\n",
        "    print( \" -------- \")\n",
        "    print( f\" Material: { self.material }  \" )\n",
        "    print( f\" {self.color} ------ \" )\n"
      ],
      "execution_count": null,
      "outputs": []
    },
    {
      "cell_type": "code",
      "metadata": {
        "id": "CtZOcQD7dsBh",
        "outputId": "f63e2928-3208-4dce-cc1b-63358cb41af1",
        "colab": {
          "base_uri": "https://localhost:8080/",
          "height": 67
        }
      },
      "source": [
        "obj = Silla()\n",
        "obj.material = \"Madera\"\n",
        "obj.color = \"Rojo\"\n",
        "obj.to_string()"
      ],
      "execution_count": null,
      "outputs": [
        {
          "output_type": "stream",
          "text": [
            " -------- \n",
            " Material: Madera  \n",
            " Rojo ------ \n"
          ],
          "name": "stdout"
        }
      ]
    }
  ]
}